{
 "cells": [
  {
   "cell_type": "code",
   "execution_count": 1,
   "id": "6158ea8b-1ade-4926-8a82-b01fdf909638",
   "metadata": {},
   "outputs": [],
   "source": [
    "#1\n",
    "class vehicle:\n",
    "    \n",
    "    def __init__(self, name_of_vehicle, max_speed, average_of_vehicle):\n",
    "        self.name_of_vehicle = name_of_vehicle\n",
    "        self.max_speed = max_speed\n",
    "        self.average_of_vehicle = average_of_vehicle"
   ]
  },
  {
   "cell_type": "code",
   "execution_count": 2,
   "id": "c962e3ff-942c-4e58-a2f6-c33ae22eeb4d",
   "metadata": {},
   "outputs": [],
   "source": [
    "car = vehicle(\"Car\", 200 , 40)"
   ]
  },
  {
   "cell_type": "code",
   "execution_count": 3,
   "id": "5324963e-ada5-409d-87bc-876d914dabc3",
   "metadata": {},
   "outputs": [
    {
     "name": "stdout",
     "output_type": "stream",
     "text": [
      "Car\n"
     ]
    }
   ],
   "source": [
    "print(car.name_of_vehicle)"
   ]
  },
  {
   "cell_type": "code",
   "execution_count": 4,
   "id": "6cad6055-6717-4ab6-b636-0ba84378030a",
   "metadata": {},
   "outputs": [
    {
     "name": "stdout",
     "output_type": "stream",
     "text": [
      "200\n"
     ]
    }
   ],
   "source": [
    "print(car.max_speed)"
   ]
  },
  {
   "cell_type": "code",
   "execution_count": 5,
   "id": "cecaf646-c578-4fa7-bd0e-f1390598aa64",
   "metadata": {},
   "outputs": [
    {
     "name": "stdout",
     "output_type": "stream",
     "text": [
      "40\n"
     ]
    }
   ],
   "source": [
    "print(car.average_of_vehicle)"
   ]
  },
  {
   "cell_type": "code",
   "execution_count": 9,
   "id": "55692d52-dc9f-4d61-a22f-e69699fa7977",
   "metadata": {},
   "outputs": [],
   "source": [
    "#2\n",
    "class vehicle:\n",
    "    \n",
    "    def __init__(self, name_of_vehicle, max_speed, average_of_vehicle):\n",
    "        self.name_of_vehicle = name_of_vehicle\n",
    "        self.max_speed = max_speed\n",
    "        self.average_of_vehicle = average_of_vehicle"
   ]
  },
  {
   "cell_type": "code",
   "execution_count": 18,
   "id": "9cf33d88-91f0-40f0-9eee-452bd9175374",
   "metadata": {},
   "outputs": [],
   "source": [
    "class car(vehicle):\n",
    "    \n",
    "    def seating_capacity(self, capacity):\n",
    "        return f\"{self.name_of_vehicle} has a seating capacity of {capacity} of people.\""
   ]
  },
  {
   "cell_type": "code",
   "execution_count": 19,
   "id": "98d7c2b7-ad57-456c-aafc-37e5fe8e00bc",
   "metadata": {},
   "outputs": [],
   "source": [
    "v=car(\"Car\", 200 , 40)"
   ]
  },
  {
   "cell_type": "code",
   "execution_count": 20,
   "id": "282db213-a953-4541-a715-ca3407392321",
   "metadata": {},
   "outputs": [
    {
     "name": "stdout",
     "output_type": "stream",
     "text": [
      "Car has a seating capacity of 5 of people.\n"
     ]
    }
   ],
   "source": [
    "print(v.seating_capacity(5))"
   ]
  },
  {
   "cell_type": "code",
   "execution_count": 23,
   "id": "7572a11a-d4d1-41b1-8359-c6f652800973",
   "metadata": {},
   "outputs": [],
   "source": [
    "#3\n",
    "# Multiple Inheritance - It is a feature in object-oriented programming where a class can inherit attributes and methods from \n",
    "# multiple parent classes. \n",
    "\n",
    "class class1:\n",
    "        \n",
    "    def test_class1(self):\n",
    "        return \" this is my class1\""
   ]
  },
  {
   "cell_type": "code",
   "execution_count": 24,
   "id": "3b5fc2ab-1eba-4a14-bd32-423a8dae6330",
   "metadata": {},
   "outputs": [],
   "source": [
    "class class2:\n",
    "    \n",
    "    def test_class2(self):\n",
    "        return \" this is my class2\""
   ]
  },
  {
   "cell_type": "code",
   "execution_count": 25,
   "id": "5897e784-d853-40e1-8f01-8a8994fa317a",
   "metadata": {},
   "outputs": [],
   "source": [
    "class class3(class1, class2):\n",
    "    pass"
   ]
  },
  {
   "cell_type": "code",
   "execution_count": 27,
   "id": "91fa22fa-c867-4e9a-acdc-269e80afade7",
   "metadata": {},
   "outputs": [],
   "source": [
    "obj_class3 = class3()"
   ]
  },
  {
   "cell_type": "code",
   "execution_count": 29,
   "id": "134519f0-ae84-44a3-8bdd-7fc6014092f6",
   "metadata": {},
   "outputs": [
    {
     "data": {
      "text/plain": [
       "' this is my class1'"
      ]
     },
     "execution_count": 29,
     "metadata": {},
     "output_type": "execute_result"
    }
   ],
   "source": [
    "obj_class3.test_class1()"
   ]
  },
  {
   "cell_type": "code",
   "execution_count": 30,
   "id": "0a30dcc2-a25a-4514-8228-a3f84c874cdd",
   "metadata": {},
   "outputs": [
    {
     "data": {
      "text/plain": [
       "' this is my class2'"
      ]
     },
     "execution_count": 30,
     "metadata": {},
     "output_type": "execute_result"
    }
   ],
   "source": [
    "obj_class3.test_class2()"
   ]
  },
  {
   "cell_type": "code",
   "execution_count": 33,
   "id": "a41b8a94-6a1c-4b25-ac57-9f6c3d10a6fd",
   "metadata": {},
   "outputs": [],
   "source": [
    "#4\n",
    "# In Python, getter and setter methods are used to access and modify the values of instance variables (attributes) of a class. \n",
    "# Getter - A getter method, also known as an accessor method, is used to retrieve the value of an attribute. It typically has the\n",
    "# naming convention 'get_attribute()', where \"attribute\" represents the name of the attribute being accessed.\n",
    "# Setter - A setter method, also known as a mutator method, is used to modify the value of an attribute. It typically has the \n",
    "# naming convention 'set_attribute(value)', where \"attribute\" represents the name of the attribute being modified, and \"value\" \n",
    "# represents the new value to be assigned.\n",
    "\n",
    "class car:\n",
    "    \n",
    "    \n",
    "    def __init__(self, year, make, model, speed):\n",
    "        self.__year=year\n",
    "        self.__make=make\n",
    "        self.__model=model\n",
    "        self.__speed=0\n",
    "        \n",
    "    def set_speed(self, speed):\n",
    "        self.__speed = 0 if speed < 0 else speed\n",
    "        \n",
    "    def get_speed(self) :\n",
    "        return self.__speed"
   ]
  },
  {
   "cell_type": "code",
   "execution_count": 32,
   "id": "85eab78e-68cc-4724-9692-7eec4df6f7e4",
   "metadata": {},
   "outputs": [],
   "source": [
    "c = car(2021,\"toyota\", \"innova\" , 12)"
   ]
  },
  {
   "cell_type": "code",
   "execution_count": 34,
   "id": "63579f91-70a5-44af-88f2-c7abea9dc9d1",
   "metadata": {},
   "outputs": [],
   "source": [
    "c.set_speed(-3465)"
   ]
  },
  {
   "cell_type": "code",
   "execution_count": 35,
   "id": "554372a6-a2b8-476f-876a-01dbbd516e8c",
   "metadata": {},
   "outputs": [
    {
     "data": {
      "text/plain": [
       "0"
      ]
     },
     "execution_count": 35,
     "metadata": {},
     "output_type": "execute_result"
    }
   ],
   "source": [
    "c.get_speed()"
   ]
  },
  {
   "cell_type": "code",
   "execution_count": 36,
   "id": "e0e97033-f721-4cfc-b7d7-7894166048e0",
   "metadata": {},
   "outputs": [],
   "source": [
    "c.set_speed(234)"
   ]
  },
  {
   "cell_type": "code",
   "execution_count": 38,
   "id": "2f0b2afc-add5-4fc3-8790-b30b9ec482d0",
   "metadata": {},
   "outputs": [
    {
     "data": {
      "text/plain": [
       "234"
      ]
     },
     "execution_count": 38,
     "metadata": {},
     "output_type": "execute_result"
    }
   ],
   "source": [
    "c.get_speed()"
   ]
  },
  {
   "cell_type": "code",
   "execution_count": 39,
   "id": "b9b9ad6f-d9ea-464c-ac2e-c53190ba1db1",
   "metadata": {},
   "outputs": [],
   "source": [
    "#5\n",
    "# Method Overriding - Method overriding is a feature in object-oriented programming where a subclass provides a different\n",
    "# implementation of a method that is already defined in its superclass. The subclass overrides the behavior of the method\n",
    "# inherited from the superclass, allowing it to provide its own implementation.\n",
    "\n",
    "class Animal:\n",
    "    def sound(self):\n",
    "        print(\"The animal makes a sound.\")\n",
    "\n",
    "class Dog(Animal):\n",
    "    def sound(self):\n",
    "        print(\"The dog barks.\")"
   ]
  },
  {
   "cell_type": "code",
   "execution_count": 40,
   "id": "6eb22fb2-0115-4b99-9c24-df647067b812",
   "metadata": {},
   "outputs": [],
   "source": [
    "dog = Dog()"
   ]
  },
  {
   "cell_type": "code",
   "execution_count": 41,
   "id": "730cb399-8e79-4b8b-b32d-9d51f5cdd705",
   "metadata": {},
   "outputs": [
    {
     "name": "stdout",
     "output_type": "stream",
     "text": [
      "The dog barks.\n"
     ]
    }
   ],
   "source": [
    "dog.sound()"
   ]
  },
  {
   "cell_type": "code",
   "execution_count": null,
   "id": "ea1ab6bf-fdfe-4b22-982f-5c6e81cdaa42",
   "metadata": {},
   "outputs": [],
   "source": []
  }
 ],
 "metadata": {
  "kernelspec": {
   "display_name": "Python 3 (ipykernel)",
   "language": "python",
   "name": "python3"
  },
  "language_info": {
   "codemirror_mode": {
    "name": "ipython",
    "version": 3
   },
   "file_extension": ".py",
   "mimetype": "text/x-python",
   "name": "python",
   "nbconvert_exporter": "python",
   "pygments_lexer": "ipython3",
   "version": "3.10.8"
  }
 },
 "nbformat": 4,
 "nbformat_minor": 5
}
